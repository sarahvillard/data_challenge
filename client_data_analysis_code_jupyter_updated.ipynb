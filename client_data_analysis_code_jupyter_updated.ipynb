{
 "cells": [
  {
   "cell_type": "markdown",
   "id": "5d59fa54-0d6a-4412-b8e4-d9c893fb7c11",
   "metadata": {},
   "source": [
    "### Step 1:\n",
    "Before beginning, insert the location of the data_analyst_challenge.db file within the quotes below.  \n",
    "\n",
    "It should look something like this:  \n",
    "dbfile = '/Desktop/data_analyst_challenge.db'"
   ]
  },
  {
   "cell_type": "code",
   "execution_count": null,
   "id": "bd76cc8d-1315-497e-95ad-29ba44128c21",
   "metadata": {
    "scrolled": true
   },
   "outputs": [],
   "source": [
    "dbfile = ''"
   ]
  },
  {
   "cell_type": "markdown",
   "id": "31b18980-39a9-4dbb-b7f1-5a1f2ae5abc8",
   "metadata": {},
   "source": [
    "### Step 2:\n",
    "Import sqlite and create connection with the db file"
   ]
  },
  {
   "cell_type": "code",
   "execution_count": null,
   "id": "50f00f53-401f-4141-9995-60971c811412",
   "metadata": {
    "scrolled": true
   },
   "outputs": [],
   "source": [
    "import sqlite3\n",
    "connection = sqlite3.connect(dbfile)\n",
    "cur = connection.cursor()"
   ]
  },
  {
   "cell_type": "markdown",
   "id": "8cb33f83-5f9a-421c-a129-cfaf3ba4ec21",
   "metadata": {},
   "source": [
    "### Step 3:\n",
    "Create a new table called std_member_info and designate column names"
   ]
  },
  {
   "cell_type": "code",
   "execution_count": null,
   "id": "67971347-ae12-4e55-96ec-3b6c180ccf32",
   "metadata": {
    "scrolled": true
   },
   "outputs": [],
   "source": [
    "cur.execute('''CREATE TABLE std_member_info\n",
    "(member_id TEXT, member_first_name TEXT, member_last_name TEXT,\n",
    "date_of_birth TEXT, main_address TEXT, city TEXT, state TEXT,\n",
    "zip_code TEXT, payer TEXT)''')"
   ]
  },
  {
   "cell_type": "markdown",
   "id": "b2f228fb-340e-4647-aa40-2166cbf47867",
   "metadata": {},
   "source": [
    "### Step 4:\n",
    "Add data to the table from rosters 1-5  \n",
    "(Note that roster 2 has eligibility dates formatted differently, requiring different selection criteria)"
   ]
  },
  {
   "cell_type": "code",
   "execution_count": null,
   "id": "5683e54e-b1d0-40bd-ae58-7670c705819f",
   "metadata": {
    "scrolled": true
   },
   "outputs": [],
   "source": [
    "cur.execute('''INSERT INTO std_member_info(member_id, member_first_name, member_last_name,\n",
    "date_of_birth, main_address, city, state, zip_code, payer)\n",
    "SELECT Person_Id, First_Name, Last_Name, Dob, Street_Address,\n",
    "City, State, Zip, payer FROM roster_1\n",
    "WHERE eligibility_start_date <= '2022-04-01'\n",
    "AND eligibility_end_date >= '2022-05-01' ''')\n",
    "\n",
    "cur.execute('''INSERT INTO std_member_info(member_id, member_first_name, member_last_name,\n",
    "date_of_birth, main_address, city, state, zip_code, payer)\n",
    "SELECT Person_Id, First_Name, Last_Name, Dob, Street_Address,\n",
    "City, State, Zip, payer FROM roster_2\n",
    "WHERE eligibility_start_date >= '04/01/2022'\n",
    "AND eligibility_end_date <= '05/01/2022' ''')\n",
    "\n",
    "cur.execute('''INSERT INTO std_member_info(member_id, member_first_name, member_last_name,\n",
    "date_of_birth, main_address, city, state, zip_code, payer)\n",
    "SELECT Person_Id, First_Name, Last_Name, Dob, Street_Address,\n",
    "City, State, Zip, payer FROM roster_3\n",
    "WHERE eligibility_start_date <= '2022-04-01'\n",
    "AND eligibility_end_date >= '2022-05-01' ''')\n",
    "\n",
    "cur.execute('''INSERT INTO std_member_info(member_id, member_first_name, member_last_name,\n",
    "date_of_birth, main_address, city, state, zip_code, payer)\n",
    "SELECT Person_Id, First_Name, Last_Name, Dob, Street_Address,\n",
    "City, State, Zip, payer FROM roster_4\n",
    "WHERE eligibility_start_date <= '2022-04-01'\n",
    "AND eligibility_end_date >= '2022-05-01' ''')\n",
    "\n",
    "cur.execute('''INSERT INTO std_member_info(member_id, member_first_name, member_last_name,\n",
    "date_of_birth, main_address, city, state, zip_code, payer)\n",
    "SELECT Person_Id, First_Name, Last_Name, Dob, Street_Address,\n",
    "City, State, Zip, payer FROM roster_5\n",
    "WHERE eligibility_start_date <= '2022-04-01'\n",
    "AND eligibility_end_date >= '2022-05-01' ''')"
   ]
  },
  {
   "cell_type": "markdown",
   "id": "58bd54c3-8837-4521-b0a7-e5786ff1a31f",
   "metadata": {},
   "source": [
    "### Step 5: \n",
    "View header and total number of rows for std_member_info"
   ]
  },
  {
   "cell_type": "code",
   "execution_count": null,
   "id": "c0e22b0b-f213-46dc-b921-b370a320704b",
   "metadata": {
    "scrolled": true
   },
   "outputs": [],
   "source": [
    "cur.execute('''SELECT * FROM std_member_info LIMIT 5''')\n",
    "print(cur.fetchall())\n",
    "\n",
    "cur.execute('''SELECT COUNT(*) FROM std_member_info''')\n",
    "print(cur.fetchall())"
   ]
  },
  {
   "cell_type": "markdown",
   "id": "73299fb5",
   "metadata": {},
   "source": [
    "### Step 6: \n",
    "Count how many distinct members are eligible in April 2022"
   ]
  },
  {
   "cell_type": "code",
   "execution_count": null,
   "id": "bbc8a7e1",
   "metadata": {
    "scrolled": true
   },
   "outputs": [],
   "source": [
    "cur.execute('''SELECT COUNT(DISTINCT member_id)\n",
    "FROM std_member_info''')\n",
    "print(cur.fetchall())"
   ]
  },
  {
   "cell_type": "markdown",
   "id": "8c731c47",
   "metadata": {},
   "source": [
    "### Step 7:\n",
    "Determine how many members were included more than once"
   ]
  },
  {
   "cell_type": "code",
   "execution_count": null,
   "id": "8748e988",
   "metadata": {
    "scrolled": true
   },
   "outputs": [],
   "source": [
    "cur.execute('''SELECT COUNT(*) FROM (\n",
    "SELECT member_id, COUNT(*)\n",
    "FROM std_member_info\n",
    "GROUP BY member_id\n",
    "HAVING COUNT(*) >1\n",
    ") T''')\n",
    "print(cur.fetchall())"
   ]
  },
  {
   "cell_type": "markdown",
   "id": "3e90ca2d",
   "metadata": {},
   "source": [
    "### Step 8:\n",
    "Create new table that only includes unique members"
   ]
  },
  {
   "cell_type": "code",
   "execution_count": null,
   "id": "2a9360c6",
   "metadata": {
    "scrolled": true
   },
   "outputs": [],
   "source": [
    "cur.execute('''CREATE TABLE std_member_info_unique AS\n",
    "SELECT *\n",
    ", 1 AS member_id\n",
    ", MAX(date_of_birth) AS date_of_birth\n",
    "FROM std_member_info\n",
    "WHERE member_id = member_id\n",
    "GROUP BY member_id''')\n"
   ]
  },
  {
   "cell_type": "markdown",
   "id": "eac49ac3",
   "metadata": {},
   "source": [
    "### Step 9: \n",
    "List the breakdown of unique members by payer"
   ]
  },
  {
   "cell_type": "code",
   "execution_count": null,
   "id": "83ed0653",
   "metadata": {
    "scrolled": true
   },
   "outputs": [],
   "source": [
    "cur.execute('''SELECT COUNT (member_id), payer\n",
    "FROM std_member_info_unique\n",
    "GROUP BY payer''')\n",
    "print(cur.fetchall())"
   ]
  },
  {
   "cell_type": "markdown",
   "id": "da399fc3",
   "metadata": {},
   "source": [
    "### Step 10: \n",
    "Count how many unique members live in a zip code with a food_access_score lower than 2"
   ]
  },
  {
   "cell_type": "code",
   "execution_count": null,
   "id": "10e97ca7",
   "metadata": {
    "scrolled": true
   },
   "outputs": [],
   "source": [
    "cur.execute('''SELECT COUNT(*) AS totalundertwo FROM (\n",
    "SELECT DISTINCT std_member_info_unique.member_id, \n",
    "std_member_info_unique.zip_code, model_scores_by_zip.food_access_score\n",
    "FROM std_member_info_unique\n",
    "INNER JOIN model_scores_by_zip\n",
    "ON std_member_info_unique.zip_code = model_scores_by_zip.zcta\n",
    "WHERE model_scores_by_zip.food_access_score < 2\n",
    "ORDER BY food_access_score DESC\n",
    ") T''')\n",
    "print(cur.fetchall())"
   ]
  },
  {
   "cell_type": "markdown",
   "id": "dcabe577",
   "metadata": {},
   "source": [
    "### Step 11: \n",
    "Calculate the average social isolation score for the unique members"
   ]
  },
  {
   "cell_type": "code",
   "execution_count": null,
   "id": "2b893418",
   "metadata": {
    "scrolled": true
   },
   "outputs": [],
   "source": [
    "cur.execute('''SELECT AVG(social_isolation_score) AS avg_social_score FROM (\n",
    "SELECT DISTINCT std_member_info_unique.member_id, std_member_info_unique.zip_code, \n",
    "model_scores_by_zip.social_isolation_score\n",
    "FROM std_member_info_unique\n",
    "INNER JOIN model_scores_by_zip\n",
    "on std_member_info_unique.zip_code = model_scores_by_zip.zcta\n",
    ") T''')\n",
    "print(cur.fetchall())"
   ]
  },
  {
   "cell_type": "markdown",
   "id": "61d40a43",
   "metadata": {},
   "source": [
    "### Step 12: \n",
    "List the unique members who live in the zip code with the highest algorex_sdoh_composite_score"
   ]
  },
  {
   "cell_type": "code",
   "execution_count": null,
   "id": "2931214d",
   "metadata": {
    "scrolled": false
   },
   "outputs": [],
   "source": [
    "cur.execute('''SELECT std_member_info_unique.member_id, std_member_info_unique.member_first_name,\n",
    "std_member_info_unique.member_last_name, model_scores_by_zip.algorex_sdoh_composite_score\n",
    "FROM std_member_info_unique\n",
    "INNER JOIN model_scores_by_zip\n",
    "ON std_member_info_unique.zip_code = model_scores_by_zip.zcta\n",
    "WHERE algorex_sdoh_composite_score =\n",
    "(SELECT MAX(algorex_sdoh_composite_score)\n",
    "FROM model_scores_by_zip)''')\n",
    "print(cur.fetchall())"
   ]
  },
  {
   "cell_type": "markdown",
   "id": "b8784e46",
   "metadata": {},
   "source": [
    "### Step 13: \n",
    "Create a table with zip code based scores for further analysis"
   ]
  },
  {
   "cell_type": "code",
   "execution_count": null,
   "id": "cd7f5fe4",
   "metadata": {
    "scrolled": true
   },
   "outputs": [],
   "source": [
    "cur.execute('''CREATE TABLE table_for_stats AS\n",
    "SELECT std_member_info_unique.member_id, \n",
    "model_scores_by_zip.neighborhood_stress_score,\n",
    "model_scores_by_zip.algorex_sdoh_composite_score,\n",
    "model_scores_by_zip.social_isolation_score,\n",
    "model_scores_by_zip.transportation_access_score,\n",
    "model_scores_by_zip.food_access_score,\n",
    "model_scores_by_zip.unstable_housing_score,\n",
    "model_scores_by_zip.state_govt_assistance,\n",
    "model_scores_by_zip.homeless_indicator,\n",
    "model_scores_by_zip.derived_indicator\n",
    "FROM std_member_info_unique\n",
    "INNER JOIN model_scores_by_zip\n",
    "ON std_member_info_unique.zip_code = model_scores_by_zip.zcta''')"
   ]
  },
  {
   "cell_type": "markdown",
   "id": "cb9d2d7b",
   "metadata": {},
   "source": [
    "### Step 14: \n",
    "Commit changes and close connection to database"
   ]
  },
  {
   "cell_type": "code",
   "execution_count": null,
   "id": "fd91d8ab",
   "metadata": {
    "scrolled": true
   },
   "outputs": [],
   "source": [
    "connection.commit()\n",
    "connection.close()"
   ]
  },
  {
   "cell_type": "markdown",
   "id": "d2b0030b",
   "metadata": {},
   "source": [
    "### Step 15: \n",
    "Import python packages and convert table_for_stats to dataframe"
   ]
  },
  {
   "cell_type": "code",
   "execution_count": null,
   "id": "e139eb74",
   "metadata": {
    "scrolled": true
   },
   "outputs": [],
   "source": [
    "import pandas as pd\n",
    "import sqlite3\n",
    "import matplotlib.pyplot as plt\n",
    "plt.style.use('seaborn-colorblind')\n",
    "cnx = sqlite3.connect(dbfile)\n",
    "sql_data = pd.read_sql_query('SELECT * FROM table_for_stats', con=cnx) \n",
    "df = pd.DataFrame(sql_data, columns=['member_id', 'neighborhood_stress_score',\n",
    "                                      'algorex_sdoh_composite_score', 'social_isolation_score',\n",
    "                                      'transportation_access_score', 'food_access_score',\n",
    "                                      'unstable_housing_score','state_govt_assistance',\n",
    "                                      'homeless_indicator', 'derived_indicator'])\n",
    "print(df.info())"
   ]
  },
  {
   "cell_type": "markdown",
   "id": "e81461c6",
   "metadata": {},
   "source": [
    "### Step 16: \n",
    "Select the subset of members in algorex composite tier \"very high risk\", as well as the subset of members in algorex composite tier \"very low risk\", for comparison.  \n",
    "\n",
    "Note: Ideally I believe we would segment this client's members according to algorex composite tiers calculated across ALL of N1 Health's members; however, in this case the tiers are calculated off of these members alone since that is the information that is available. "
   ]
  },
  {
   "cell_type": "code",
   "execution_count": null,
   "id": "c77217a5",
   "metadata": {
    "scrolled": true
   },
   "outputs": [],
   "source": [
    "df['algorex_sdoh_composite_tier'] = pd.qcut(df['algorex_sdoh_composite_score'], q=5, \n",
    "labels=['very low risk','low risk','medium risk','high risk','very high risk'])\n",
    "\n",
    "highest_algorex = df[df['algorex_sdoh_composite_tier'] == 'very high risk']\n",
    "print(highest_algorex.info())\n",
    "lowest_algorex = df[df['algorex_sdoh_composite_tier'] == 'very low risk']\n",
    "print(lowest_algorex.info())"
   ]
  },
  {
   "cell_type": "markdown",
   "id": "357a365d",
   "metadata": {},
   "source": [
    "### Step 17: \n",
    "Select scores for food access, unstable housing, and transportation access for each of these groups"
   ]
  },
  {
   "cell_type": "code",
   "execution_count": null,
   "id": "0c083153",
   "metadata": {
    "scrolled": true
   },
   "outputs": [],
   "source": [
    "highest_algorex_food = highest_algorex['food_access_score']\n",
    "highest_algorex_housing = highest_algorex['unstable_housing_score']\n",
    "highest_algorex_transport = highest_algorex['transportation_access_score']\n",
    "highest_algorex_social = highest_algorex['social_isolation_score']\n",
    "\n",
    "lowest_algorex_food = lowest_algorex['food_access_score']\n",
    "lowest_algorex_housing = lowest_algorex['unstable_housing_score']\n",
    "lowest_algorex_transport = lowest_algorex['transportation_access_score']\n",
    "lowest_algorex_social = lowest_algorex['social_isolation_score']"
   ]
  },
  {
   "cell_type": "markdown",
   "id": "d242e9c2",
   "metadata": {},
   "source": [
    "### Step 18: \n",
    "Create boxplots comparing the distributions of each of these scores for members with the highest vs. lowest algorex scores"
   ]
  },
  {
   "cell_type": "code",
   "execution_count": null,
   "id": "3f48240a",
   "metadata": {
    "scrolled": false
   },
   "outputs": [],
   "source": [
    "print('Distibutions of scores in members with the highest vs the lowest algorex scores: \\n')\n",
    "\n",
    "plt.subplot(2,2,1)\n",
    "plt.boxplot([highest_algorex_food,lowest_algorex_food],labels=['very high risk','very low risk'], widths = .25)\n",
    "plt.ylim([0,10])\n",
    "plt.title('food access')\n",
    "plt.ylabel('scores')\n",
    "\n",
    "plt.subplot(2,2,2)\n",
    "plt.boxplot([highest_algorex_housing,lowest_algorex_housing],labels=['very high risk','very low risk'], widths = .25)\n",
    "plt.ylim([0,10])\n",
    "plt.title('unstable housing')\n",
    "plt.ylabel('scores')\n",
    "\n",
    "plt.subplot(2,2,3)\n",
    "plt.boxplot([highest_algorex_transport,lowest_algorex_transport],labels=['very high risk','very low risk'], widths = .25)\n",
    "plt.ylim([0,10])\n",
    "plt.title('transportation access')\n",
    "plt.ylabel('scores')\n",
    "\n",
    "plt.subplot(2,2,4)\n",
    "plt.boxplot([highest_algorex_social,lowest_algorex_social],labels=['very high risk','very low risk'], widths = .25)\n",
    "plt.ylim([0,10])\n",
    "plt.title('social isolation')\n",
    "plt.ylabel('scores')\n",
    "\n",
    "plt.tight_layout(pad = 3.0)\n"
   ]
  }
 ],
 "metadata": {
  "kernelspec": {
   "display_name": "Python 3 (ipykernel)",
   "language": "python",
   "name": "python3"
  },
  "language_info": {
   "codemirror_mode": {
    "name": "ipython",
    "version": 3
   },
   "file_extension": ".py",
   "mimetype": "text/x-python",
   "name": "python",
   "nbconvert_exporter": "python",
   "pygments_lexer": "ipython3",
   "version": "3.9.13"
  }
 },
 "nbformat": 4,
 "nbformat_minor": 5
}
